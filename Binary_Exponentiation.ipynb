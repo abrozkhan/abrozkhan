{
  "nbformat": 4,
  "nbformat_minor": 0,
  "metadata": {
    "colab": {
      "provenance": [],
      "authorship_tag": "ABX9TyOXPIqXwdcd8GFor8eMKSWf",
      "include_colab_link": true
    },
    "kernelspec": {
      "name": "python3",
      "display_name": "Python 3"
    },
    "language_info": {
      "name": "python"
    }
  },
  "cells": [
    {
      "cell_type": "markdown",
      "metadata": {
        "id": "view-in-github",
        "colab_type": "text"
      },
      "source": [
        "<a href=\"https://colab.research.google.com/github/abrozkhan/abrozkhan/blob/master/Binary_Exponentiation.ipynb\" target=\"_parent\"><img src=\"https://colab.research.google.com/assets/colab-badge.svg\" alt=\"Open In Colab\"/></a>"
      ]
    },
    {
      "cell_type": "markdown",
      "source": [
        "##Problem:\n",
        "\n",
        "* You are given two numbers ’x’(it’s a float), and ’n’(it’s a integer).\n",
        "\n",
        "\n",
        "* Your task is to calculate ‘x’ raised to power ‘n’, and return it.\n",
        "\n",
        "\n",
        "* The expected time complexity is ’O(logn)’, and the expected space complexity is ’O(1)’, where ‘n’ is the power to which the number should be raised.\n",
        "\n",
        "\n",
        "####Note:\n",
        "In the output, you will see the number returned by you upto 6 decimal places.\n"
      ],
      "metadata": {
        "id": "GHnKHYB3VRCY"
      }
    },
    {
      "cell_type": "code",
      "source": [
        "\n",
        "'''\n",
        "The code employs a technique called binary exponentiation to avoid performing multiplication 'n' times.\n",
        "Instead of multiplying 'x' by itself 'n' times, it calculates the result more efficiently using the following approach:\n",
        "\n",
        "Start with n = 17 (binary 10001).\n",
        "Process the rightmost bit (1):\n",
        "ans is multiplied by x, and x is squared.\n",
        "n becomes 8 (binary 1000).\n",
        "Process the next bit (0):\n",
        "Only x is squared.\n",
        "n becomes 4 (binary 100).\n",
        "Process the next bit (0):\n",
        "Only x is squared.\n",
        "n becomes 2 (binary 10).\n",
        "Process the next bit (0):\n",
        "Only x is squared.\n",
        "n becomes 1 (binary 1).\n",
        "Process the leftmost bit (1):\n",
        "ans is multiplied by x, and x is squared.\n",
        "The binary exponentiation process efficiently calculates 3 raised to the power 17, resulting in 129140163.0.\n",
        "\n",
        "'''\n",
        "\n",
        "def myPow(x: float, n: int) -> float:\n",
        "    # Declare variable 'ans'.\n",
        "    ans = 1.0\n",
        "    # Declaring a boolean variable to check whether 'n' is negative.\n",
        "    flag = False\n",
        "\n",
        "    # Check if 'n' is negative.\n",
        "    if n < 0:\n",
        "        flag = True\n",
        "        n = -n\n",
        "\n",
        "    # Binary Exponentiation.\n",
        "    while n > 0:\n",
        "        # If 'n' is divisible by '2'.\n",
        "        if n % 2 == 0:\n",
        "            n //= 2\n",
        "        else:\n",
        "            # 'n' is not divisible by 2.\n",
        "            ans *= x\n",
        "            # Dividing 'n' by 2.\n",
        "            n //= 2\n",
        "            # Multiplying 'x' by itself.\n",
        "            x *= x\n",
        "\n",
        "    # If 'flag' is true, 'n' was negative.\n",
        "    if flag:\n",
        "        ans = 1.0 / ans\n",
        "\n",
        "    # Format 'ans' to have exactly 6 decimal places.\n",
        "    ans = \"{:.6f}\".format(ans)\n",
        "\n",
        "    return float(ans)\n"
      ],
      "metadata": {
        "id": "Zr8Mo8tpU97p"
      },
      "execution_count": null,
      "outputs": []
    }
  ]
}